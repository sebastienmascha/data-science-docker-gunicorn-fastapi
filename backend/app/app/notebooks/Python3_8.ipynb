{
 "cells": [
  {
   "cell_type": "markdown",
   "id": "2dd8ee76-4ea8-4ec7-8771-11d143af3352",
   "metadata": {},
   "source": [
    "<center><h1>Python for Data Analysis and Scientific Computing</h1></center>\n",
    "<center><h2>Mid-Term Exam</h2></center>\n",
    "<center> By Sebastien Mascha (x181524) </center>\n",
    "<center><i> s.mascha@berkeley.edu </i></center>"
   ]
  },
  {
   "cell_type": "code",
   "execution_count": 2,
   "id": "3f3832a4-0682-4f11-8f00-21a95514910d",
   "metadata": {},
   "outputs": [],
   "source": [
    "__author__ = \"Sebastien Mascha, Thomas Le Couedic\"\n",
    "__email__ = \"s.mascha@berkeley.edu, tlc10@berkeley.edu\""
   ]
  },
  {
   "cell_type": "code",
   "execution_count": 11,
   "id": "56e3a55b-5b62-4300-9873-e8c081853d2c",
   "metadata": {},
   "outputs": [
    {
     "name": "stdout",
     "output_type": "stream",
     "text": [
      "TensorFlow version is: 2.4.1\n",
      "\n",
      "Python and system version:\n",
      "3.8.7 (default, Apr  1 2021, 16:24:42) \n",
      "[Clang 12.0.0 (clang-1200.0.32.29)]\n"
     ]
    }
   ],
   "source": [
    "import statistics\n",
    "\n",
    "# Provides n-dimensional array object\n",
    "import numpy as np\n",
    "# Data analysis and manipulation tool\n",
    "import pandas as pd\n",
    "# Fundamental package for scientific computing\n",
    "import scipy\n",
    "\n",
    "# For interactive visualizations\n",
    "%matplotlib inline\n",
    "# Plotting library\n",
    "import matplotlib as mpl\n",
    "# State-based interface to matplotlib\n",
    "import matplotlib.pyplot as plt\n",
    "\n",
    "# Provides tools for data analysis and data mining\n",
    "# from sklearn import datasets\n",
    "\n",
    "import tensorflow as tf\n",
    "print(\"TensorFlow version is: \" + tf.__version__)\n",
    "\n",
    "import sys\n",
    "print(\"\\nPython and system version:\")\n",
    "print(sys.version)"
   ]
  },
  {
   "cell_type": "code",
   "execution_count": null,
   "id": "de82bffe-9da6-4ed7-b8f6-6e606ec7b72d",
   "metadata": {},
   "outputs": [],
   "source": []
  }
 ],
 "metadata": {
  "kernelspec": {
   "display_name": "Python 3",
   "language": "python",
   "name": "python3"
  },
  "language_info": {
   "codemirror_mode": {
    "name": "ipython",
    "version": 3
   },
   "file_extension": ".py",
   "mimetype": "text/x-python",
   "name": "python",
   "nbconvert_exporter": "python",
   "pygments_lexer": "ipython3",
   "version": "3.8.7"
  }
 },
 "nbformat": 4,
 "nbformat_minor": 5
}
