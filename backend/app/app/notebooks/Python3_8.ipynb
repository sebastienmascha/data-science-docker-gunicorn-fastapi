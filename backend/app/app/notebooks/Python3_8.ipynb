{
 "cells": [
  {
   "cell_type": "markdown",
   "id": "2dd8ee76-4ea8-4ec7-8771-11d143af3352",
   "metadata": {},
   "source": [
    "<center><h1>Python for Data Analysis and Scientific Computing</h1></center>\n",
    "<center><h2>Final Project</h2></center>\n",
    "<center> By Sebastien Mascha and Thomas Le Couédic </center>\n",
    "<center><i> s.mascha@berkeley.edu | tlc10@berkeley.edy </i></center>"
   ]
  },
  {
   "cell_type": "code",
   "execution_count": 2,
   "id": "3f3832a4-0682-4f11-8f00-21a95514910d",
   "metadata": {},
   "outputs": [],
   "source": [
    "__version__ = \"1.0\"\n",
    "__author__ = \"Sebastien Mascha, Thomas Le Couedic\"\n",
    "__email__ = \"s.mascha@berkeley.edu, tlc10@berkeley.edu\""
   ]
  },
  {
   "cell_type": "code",
   "execution_count": 8,
   "id": "56e3a55b-5b62-4300-9873-e8c081853d2c",
   "metadata": {},
   "outputs": [
    {
     "name": "stdout",
     "output_type": "stream",
     "text": [
      "Python and compiler version:\n",
      "3.8.1 (default, Feb  2 2020, 08:49:34) \n",
      "[GCC 8.3.0]\n",
      "\n",
      "OpenCV version: 4.5.1\n",
      "TensorFlow version: 2.4.1\n"
     ]
    }
   ],
   "source": [
    "import statistics\n",
    "import sys\n",
    "print(\"Python and compiler version:\")\n",
    "print(sys.version)\n",
    "\n",
    "# Provides n-dimensional array object\n",
    "import numpy as np\n",
    "# Data analysis and manipulation tool\n",
    "import pandas as pd\n",
    "# Fundamental package for scientific computing\n",
    "import scipy\n",
    "\n",
    "# Plotting library\n",
    "%matplotlib inline\n",
    "import matplotlib as mpl\n",
    "# State-based interface to matplotlib\n",
    "import matplotlib.pyplot as plt\n",
    "\n",
    "# Data Mining and Machine Learning\n",
    "# from sklearn import datasets\n",
    "import cv2\n",
    "print(\"\\nOpenCV version: \" + cv2.__version__)\n",
    "import tensorflow as tf\n",
    "print(\"TensorFlow version: \" + tf.__version__)"
   ]
  },
  {
   "cell_type": "code",
   "execution_count": null,
   "id": "de82bffe-9da6-4ed7-b8f6-6e606ec7b72d",
   "metadata": {},
   "outputs": [],
   "source": []
  }
 ],
 "metadata": {
  "kernelspec": {
   "display_name": "Python 3",
   "language": "python",
   "name": "python3"
  },
  "language_info": {
   "codemirror_mode": {
    "name": "ipython",
    "version": 3
   },
   "file_extension": ".py",
   "mimetype": "text/x-python",
   "name": "python",
   "nbconvert_exporter": "python",
   "pygments_lexer": "ipython3",
   "version": "3.8.1"
  }
 },
 "nbformat": 4,
 "nbformat_minor": 5
}
